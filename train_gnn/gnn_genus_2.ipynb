{
 "cells": [
  {
   "cell_type": "markdown",
   "id": "6520bd84",
   "metadata": {},
   "source": [
    "# Training a GNN to solve genus 2 Minesweeper\n",
    "\n",
    "Solving genus 2 minesweeper is a much simpler task than solving genus g minesweeper. In genus g Minesweeper, a tile can have any number of neighbors, creating issues in how to represent number of mines. In genus 2, this number is only up to 23. Still somewhat difficult to cope with, but is much more manageable.\n",
    "\n",
    "This notebook serves as an initial test for the results I can get with genus 2 minesweeper. Later on, I must figure out how to extend this to genus g."
   ]
  },
  {
   "cell_type": "markdown",
   "id": "6da3212a",
   "metadata": {},
   "source": [
    "# Data Loading \n",
    "\n",
    "This section serves to define functions for loading data for use by the nn."
   ]
  },
  {
   "cell_type": "code",
   "execution_count": 1,
   "id": "f971542d",
   "metadata": {},
   "outputs": [],
   "source": [
    "from train_generator import *"
   ]
  },
  {
   "cell_type": "code",
   "execution_count": 6,
   "id": "8681e9f9",
   "metadata": {},
   "outputs": [
    {
     "data": {
      "text/plain": [
       "Graph(num_nodes=800, num_edges=1696,\n",
       "      ndata_schemes={'state': Scheme(shape=(3,), dtype=dtype('float32')), 'mines': Scheme(shape=(23,), dtype=dtype('float32')), 'y': Scheme(shape=(1,), dtype=dtype('float32'))}\n",
       "      edata_schemes={})"
      ]
     },
     "execution_count": 6,
     "metadata": {},
     "output_type": "execute_result"
    }
   ],
   "source": [
    "# Need to set the dgl backend\n",
    "import os\n",
    "\n",
    "os.environ[\"DGLBACKEND\"] = \"mxnet\"\n",
    "import mxnet as mx\n",
    "import dgl\n",
    "\n",
    "# Create a dgl graph from a single piece of generator output (single (X, Y) pair)\n",
    "def g_from_gen(gen_out):\n",
    "    # Split data\n",
    "    (edges, tile_data), y = gen_out\n",
    "    edges = list(edges)\n",
    "    \n",
    "    # Process data mxnet format\n",
    "    from_node = mx.nd.array([edge[0] for edge in edges], dtype=\"int32\")\n",
    "    to_node   = mx.nd.array([edge[1] for edge in edges], dtype=\"int32\")\n",
    "    num_nodes = len(y)\n",
    "    tile_states = mx.np.array([tile_data[i][0] for i in range(num_nodes)])\n",
    "    tile_mines =  mx.np.array([tile_data[i][1] for i in range(num_nodes)])\n",
    "    tile_y = mx.np.array([[1 if hasmine else 0] for hasmine in y])\n",
    "    \n",
    "    # Generate graph\n",
    "    g = dgl.graph((from_node, to_node), num_nodes=num_nodes)\n",
    "    g = dgl.add_self_loop(g)\n",
    "    \n",
    "    # Set up graph attributes\n",
    "    ndata_state = mx.np.zeros((num_nodes, 3))\n",
    "    ndata_mines = mx.np.zeros((num_nodes, 23))\n",
    "    ndata_y = mx.np.zeros((num_nodes, 1))\n",
    "    \n",
    "    ndata_state[mx.np.arange(tile_states.size), tile_states] = 1\n",
    "    ndata_state[mx.np.arange(tile_mines.size), tile_mines] = 1\n",
    "    ndata_y = tile_y\n",
    "    \n",
    "    g.ndata[\"state\"] = ndata_state\n",
    "    g.ndata[\"mines\"] = ndata_mines\n",
    "    g.ndata[\"y\"] = ndata_y\n",
    "    \n",
    "    return g\n",
    "\n",
    "start = time.time()\n",
    "test_gen = train_generator()\n",
    "test_out = next(test_gen)[0]\n",
    "g_from_gen(test_out)"
   ]
  },
  {
   "cell_type": "markdown",
   "id": "b1eebd9e",
   "metadata": {},
   "source": [
    "# Model definition\n",
    "\n",
    "Definition of GNN models to test"
   ]
  },
  {
   "cell_type": "code",
   "execution_count": null,
   "id": "3ca791b1",
   "metadata": {},
   "outputs": [],
   "source": [
    "from dgl.nn import GraphConv\n",
    "from mxnet import gluon, init, npx, autograd\n",
    "from mxnet.gluon import nn\n",
    "\n",
    "class GCN_1(nn.Block):\n",
    "    def __init__(self, **kwargs):\n",
    "        super().__init__(**kwargs)\n",
    "        self.dense_nstate = nn.Dense(16, in_units=3)\n",
    "        self.dense_nmines = nn.Dense(16, in_units=23)\n",
    "        self.dense_nmerge = nn.Dense(64)\n",
    "        self.conv1 = GraphConv(64, 128)\n",
    "        self.conv2 = GraphConv(128, 256)\n",
    "        self.conv3 = GraphConv(256, 512)\n",
    "        self.conv4 = GraphConv(512, 1)\n",
    "        self.relu = nn.Activation(\"relu\")\n",
    "        self.sig = nn.Activation(\"sigmoid\")\n",
    "    \n",
    "    def forward(self, g, in_nstates, in_nmines):\n",
    "        h_nstates = self.relu(self.dense_nstate(in_nstates))\n",
    "        h_nmines = self.relu(self.dense_nmines(in_nmines))\n",
    "        h_merged = mx.np.concat((h_nstates, h_nmines), axis=1)\n",
    "        h_merged = self.relu(self.dense_nmerge(h_merged))\n",
    "        \n",
    "        h_graph = h_merged\n",
    "        for layer in [self.conv1, self.conv2, self.conv3]:\n",
    "            h_graph = self.relu(layer(h_graph))\n",
    "        \n",
    "        y_hat = self.sig(self.conv4(h_graph))\n",
    "        return y_hat\n",
    "        \n",
    "    "
   ]
  }
 ],
 "metadata": {
  "kernelspec": {
   "display_name": "Python 3",
   "language": "python",
   "name": "python3"
  },
  "language_info": {
   "codemirror_mode": {
    "name": "ipython",
    "version": 3
   },
   "file_extension": ".py",
   "mimetype": "text/x-python",
   "name": "python",
   "nbconvert_exporter": "python",
   "pygments_lexer": "ipython3",
   "version": "3.8.8"
  }
 },
 "nbformat": 4,
 "nbformat_minor": 5
}
